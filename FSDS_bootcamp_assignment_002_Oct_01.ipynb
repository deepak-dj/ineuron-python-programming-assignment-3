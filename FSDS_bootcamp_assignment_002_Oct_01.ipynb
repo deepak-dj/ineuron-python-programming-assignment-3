{
  "nbformat": 4,
  "nbformat_minor": 0,
  "metadata": {
    "colab": {
      "provenance": [],
      "collapsed_sections": []
    },
    "kernelspec": {
      "name": "python3",
      "display_name": "Python 3"
    },
    "language_info": {
      "name": "python"
    }
  },
  "cells": [
    {
      "cell_type": "markdown",
      "source": [
        "# ASSIGNMENTS - Compulsory\n",
        "## Send it before 0000 hrs IST or 12 AM Wednesday\n",
        "\n",
        "## NOTE: Evaluation will be done before next class.\n",
        "\n",
        "## HOW TO SUBMIT: -\n",
        "Download this notebook, Solve it and upload in the google form given in the mail."
      ],
      "metadata": {
        "id": "cyOfbWCdOjEr"
      }
    },
    {
      "cell_type": "markdown",
      "source": [
        "\n",
        "1. What is indentation error? Why indentation is important? Give one simple example?\n",
        "\n",
        "## Answer\n",
        "- Indentation refers to the spaces at the beginning of a code line.Where in other programming languages the indentation in code is for readability only, the indentation in Python is very important.Python uses indentation to indicate a block of code.\n",
        "\n",
        "\n",
        "2. Correct the following code and write the comment where you made the correction?\n",
        "## Answer\n",
        "  ```python\n",
        "  class_started = bool(input(\"Hey friend, is class started?: [0-False/1-True]\"))  # here I will cast the input method into int()\n",
        "\n",
        "  if class_started:\n",
        "      print(\"Since class started...\")\n",
        "      print(\"Lets concentrate\")\n",
        "  else:\n",
        "      print(\"Since class is not started...\")\n",
        "      print(\"let's revise\")    \n",
        "  ```\n",
        "\n",
        "  **HINT:** Refer your data type conversion class\n",
        "\n",
        "3. Use if else condition to verify that dataype of `input()` method in python is always string.\n",
        "\n",
        "## Answer\n",
        "   ```python\n",
        "  data = input('enter anything')\n",
        "\n",
        "  if type(data)==str:\n",
        "      print(\"Input is always a string\")\n",
        "  else:\n",
        "      print(\"input is not always a string\")   \n",
        "  ```\n",
        "\n",
        "\n",
        "\n",
        "4. Take 3 variables and assign integer values to them. Find the largest variable, by only using the if and else conditions.\n",
        "\n",
        "## Answer\n",
        "```python\n",
        "a,b,c = 1,2,3\n",
        "if a>b and a>c:\n",
        "      print(f'{a} is largest')\n",
        "elif b>c and b>a:    \n",
        "      print(f'{b} is largest')\n",
        "else:\n",
        "      print(f'{c} is largest')\n",
        "```\n",
        "\n",
        "\n",
        "5. What would be the solution?\n",
        "    1. True\n",
        "    2. False\n",
        "\n",
        "    ```python\n",
        "    a = 6\n",
        "    b = 10\n",
        "    print( not ( not a == 10 or not b == 10) )\n",
        "    ```\n",
        "## Answer =  False\n",
        "\n",
        "6. Find the answer as well as find out the reason behind the result? -\n",
        "    - case 1:\n",
        "        ```python\n",
        "        A = 5.0\n",
        "        B = 10/2\n",
        "        print(A is B)\n",
        "        ```\n",
        "    - case 2:\n",
        "        ```python\n",
        "        A = 5.0\n",
        "        B = int(10/2)\n",
        "        print(A is B)\n",
        "        ```\n",
        "    - case 3:\n",
        "        ```python\n",
        "        A = 5.0\n",
        "        B = float(10/2)\n",
        "        print(A is B)\n",
        "        ```\n",
        "##Answer\n",
        "    - Case 1 = False\n",
        "    - Case 2 = False\n",
        "    - Case 3 = False\n",
        "    >= All Cases are false because A and B are different variable refrencing to different value so each variable will allocate the seprate memory in the stack."
      ],
      "metadata": {
        "id": "GT4IytkJMNa-"
      }
    },
    {
      "cell_type": "code",
      "source": [],
      "metadata": {
        "id": "DvNuJjxYZ73X"
      },
      "execution_count": null,
      "outputs": []
    },
    {
      "cell_type": "markdown",
      "source": [],
      "metadata": {
        "id": "VJ_17XYYZ98W"
      }
    },
    {
      "cell_type": "markdown",
      "source": [
        "### Try to understand the following examples and answer the question based on it - \n",
        "    \n",
        "**Arithmatic Operators**\n",
        "\n",
        "|Operation|Meaning|\n",
        "|:-:|:-:|\n",
        "| **+** |addition|\n",
        "| **-** |subtraction|\n",
        "| **\\*** |multiplication|\n",
        "| **/** |true division|\n",
        "| **//** |integer division|\n",
        "| **%** |the modulo operator|\n",
        "\n",
        "\n",
        "Here `+`, `-`, `*`, `/` are regular arithmatic operators. Lets look at the `//` and `%` operators\n",
        "\n",
        "Usecase or examples - \n",
        "    \n",
        "```python\n",
        "var_a = 5\n",
        "var_b = 25\n",
        "integer_division = var_b // var_a\n",
        "print(f\"integer division: {var_b}/{var_a}={integer_division}\")\n",
        "```\n",
        "\n",
        "OUTPUT: integer division: 25/5=5\n",
        "\n",
        "```python\n",
        "var_a = 3\n",
        "var_b = 25\n",
        "integer_division = var_b // var_a\n",
        "print(f\"integer division: {var_b}/{var_a}={integer_division}\")\n",
        "```\n",
        "\n",
        "OUTPUT: integer division: 25/3=8\n",
        "\n",
        "```python\n",
        "var_a = 5\n",
        "var_b = 25\n",
        "remainder = var_b % var_a\n",
        "print(f\"remainder: {var_b}/{var_a} is {remainder}\")\n",
        "```\n",
        "\n",
        "OUTPUT: remainder: 25/5 is 0\n",
        "\n",
        "```python\n",
        "var_a = 3\n",
        "var_b = 25\n",
        "remainder = var_b % var_a\n",
        "print(f\"remainder: {var_b}/{var_a} is {remainder}\")\n",
        "```\n",
        "\n",
        "OUTPUT: remainder: 25/3 is 1\n",
        "\n"
      ],
      "metadata": {
        "id": "a_4kbBVWNY-4"
      }
    },
    {
      "cell_type": "markdown",
      "source": [
        "### Answer below questions on the above theory - \n",
        "\n",
        "7. Write a program that asks the user to enter a number. You should print out a message to the user, either “That number is divisible by either 3 or 5”, or “That number is not divisible by either 3 or 5”. Be sure to consider the data type of the input you are taking in from the user. Use a single if/else block to solve this problem.\n",
        "\n",
        "8. Take user input for length and width. Then calculate the area of rectangle. Also print as per length and width whether its a square of rectangle.\n",
        "\n",
        "9. Take two variable radius_1 and radius_2 and calculate the area of circle_1 and circle_2. Also print which circle has large area. If area is equal then print area is equal.\n",
        "\n",
        "10. Check whether a year is leap year or not. Use nested if...else to solve this problem. A leap year is exactly divisible by 4 except for century years (years ending with 00). The century year is a leap year only if it is perfectly divisible by 400.\n",
        "\n",
        "\n",
        "## Answers"
      ],
      "metadata": {
        "id": "v288WPlMNxmM"
      }
    },
    {
      "cell_type": "code",
      "execution_count": null,
      "metadata": {
        "id": "XumyqFp6MHnv"
      },
      "outputs": [],
      "source": [
        "#Ques 7\n",
        "num = int(input('enter a number = '))\n",
        "\n",
        "if num % 3 ==0:\n",
        "  print(f'{num} is divisible by either 3')\n",
        "elif num%5==0:  \n",
        "  print(f'{num} is divisible by either 5')\n",
        "else:\n",
        "  print(f'{num} not divisible by either 3 or 5')"
      ]
    },
    {
      "cell_type": "code",
      "source": [
        "# ques 8\n",
        "length = int(input('enter length = '))\n",
        "width = int(input('enter width = '))\n",
        "area  = length*width\n",
        "if length == width:\n",
        "  print(f'required result is Square with length = {length}, width = {width}, and its area is {area}')\n",
        "else:  \n",
        "  print(f'required result is Rectangle with length = {length}, width = {width}, and its area is {area}')\n"
      ],
      "metadata": {
        "id": "QXT16YmJnvsp"
      },
      "execution_count": null,
      "outputs": []
    },
    {
      "cell_type": "code",
      "source": [],
      "metadata": {
        "id": "2Z-0UEQbq0WG"
      },
      "execution_count": null,
      "outputs": []
    },
    {
      "cell_type": "code",
      "source": [
        "# ques 9\n",
        "import math\n",
        "radius_1 = int(input('enter radius'))\n",
        "radius_2 = int(input('enter radius'))\n",
        "\n",
        "area_1 = math.pi*(radius_1**2)\n",
        "area_2 = math.pi*(radius_2**2)\n",
        "\n",
        "if area_1 > area_2:\n",
        "  print(f'Area of circle 1 {area_1} is greater than area of circle 2 {area_2}')\n",
        "elif(area_1 < area_2):\n",
        "  print(f'Area of circle 2 {area_2} is greater than area of circle 1 {area_1}')\n",
        "else:\n",
        "  print(f'Circle 1 and circle 2 have equal areas {area_1}')  "
      ],
      "metadata": {
        "id": "ij9PtzmEpQOW"
      },
      "execution_count": null,
      "outputs": []
    },
    {
      "cell_type": "code",
      "source": [
        "# ques 10\n",
        "year = int(input('enter year = '))\n",
        "\n",
        "if year % 4 == 0 and year % 100 != 0:\n",
        "   print(f'{year} is a leap year')\n",
        "\n",
        "elif year % 400 == 0:\n",
        "   print(f'{year} is a leap year')\n",
        "\n",
        "else:\n",
        "  print(f'{year} is not a leap year')  "
      ],
      "metadata": {
        "id": "uS2yU9iUvJV5"
      },
      "execution_count": null,
      "outputs": []
    },
    {
      "cell_type": "markdown",
      "source": [],
      "metadata": {
        "id": "ceswacRda2Og"
      }
    },
    {
      "cell_type": "code",
      "source": [],
      "metadata": {
        "id": "vcYf27wPesQl"
      },
      "execution_count": null,
      "outputs": []
    },
    {
      "cell_type": "code",
      "source": [],
      "metadata": {
        "id": "_GOfp7zzesa2"
      },
      "execution_count": null,
      "outputs": []
    }
  ]
}